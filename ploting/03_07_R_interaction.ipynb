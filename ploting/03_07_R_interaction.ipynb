{
 "cells": [
  {
   "cell_type": "code",
   "execution_count": 1,
   "metadata": {
    "vscode": {
     "languageId": "r"
    }
   },
   "outputs": [
    {
     "name": "stderr",
     "output_type": "stream",
     "text": [
      "Loading required package: dplyr\n",
      "\n",
      "\n",
      "Attaching package: ‘dplyr’\n",
      "\n",
      "\n",
      "The following objects are masked from ‘package:stats’:\n",
      "\n",
      "    filter, lag\n",
      "\n",
      "\n",
      "The following objects are masked from ‘package:base’:\n",
      "\n",
      "    intersect, setdiff, setequal, union\n",
      "\n",
      "\n",
      "Loading required package: igraph\n",
      "\n",
      "\n",
      "Attaching package: ‘igraph’\n",
      "\n",
      "\n",
      "The following objects are masked from ‘package:dplyr’:\n",
      "\n",
      "    as_data_frame, groups, union\n",
      "\n",
      "\n",
      "The following objects are masked from ‘package:stats’:\n",
      "\n",
      "    decompose, spectrum\n",
      "\n",
      "\n",
      "The following object is masked from ‘package:base’:\n",
      "\n",
      "    union\n",
      "\n",
      "\n",
      "Loading required package: ggplot2\n",
      "\n"
     ]
    }
   ],
   "source": [
    "library(CellChat)\n",
    "library(anndata)\n",
    "library(patchwork)\n",
    "options(stringsAsFactors = FALSE)"
   ]
  },
  {
   "cell_type": "code",
   "execution_count": 13,
   "metadata": {
    "vscode": {
     "languageId": "r"
    }
   },
   "outputs": [
    {
     "name": "stderr",
     "output_type": "stream",
     "text": [
      "Warning message in asMethod(object):\n",
      "“sparse->dense coercion: allocating vector of size 6.7 GiB”\n"
     ]
    }
   ],
   "source": [
    "ad <- read_h5ad(\"/home/wu/datb1/reseq_ppp/interaction_data/merged_normalised_log_counts.h5ad\")\n",
    "# access count data matrix\n",
    "counts <- t(as.matrix(ad$X))\n",
    "data.input <- as(counts, \"dgCMatrix\")\n",
    "\n",
    "# access meta data\n",
    "meta <- ad$obs\n",
    "meta$labels <- meta[[\"leiden\"]] \n",
    "# save the data for CellChat analysis\n",
    "# save(data.input, meta, file = \"interaction_data/cellchat_data.RData\")"
   ]
  },
  {
   "cell_type": "code",
   "execution_count": 3,
   "metadata": {
    "vscode": {
     "languageId": "r"
    }
   },
   "outputs": [],
   "source": [
    "meta$sample <- meta[['Meta']]"
   ]
  },
  {
   "cell_type": "code",
   "execution_count": 4,
   "metadata": {
    "vscode": {
     "languageId": "r"
    }
   },
   "outputs": [
    {
     "data": {
      "text/html": [
       "<table class=\"dataframe\">\n",
       "<caption>A matrix: 2 × 6 of type dbl</caption>\n",
       "<thead>\n",
       "\t<tr><th></th><th scope=col>used</th><th scope=col>(Mb)</th><th scope=col>gc trigger</th><th scope=col>(Mb)</th><th scope=col>max used</th><th scope=col>(Mb)</th></tr>\n",
       "</thead>\n",
       "<tbody>\n",
       "\t<tr><th scope=row>Ncells</th><td>  4487908</td><td>239.7</td><td>   8593322</td><td>  459.0</td><td>   6762543</td><td>  361.2</td></tr>\n",
       "\t<tr><th scope=row>Vcells</th><td>118597783</td><td>904.9</td><td>1734031136</td><td>13229.7</td><td>1916141232</td><td>14619.0</td></tr>\n",
       "</tbody>\n",
       "</table>\n"
      ],
      "text/latex": [
       "A matrix: 2 × 6 of type dbl\n",
       "\\begin{tabular}{r|llllll}\n",
       "  & used & (Mb) & gc trigger & (Mb) & max used & (Mb)\\\\\n",
       "\\hline\n",
       "\tNcells &   4487908 & 239.7 &    8593322 &   459.0 &    6762543 &   361.2\\\\\n",
       "\tVcells & 118597783 & 904.9 & 1734031136 & 13229.7 & 1916141232 & 14619.0\\\\\n",
       "\\end{tabular}\n"
      ],
      "text/markdown": [
       "\n",
       "A matrix: 2 × 6 of type dbl\n",
       "\n",
       "| <!--/--> | used | (Mb) | gc trigger | (Mb) | max used | (Mb) |\n",
       "|---|---|---|---|---|---|---|\n",
       "| Ncells |   4487908 | 239.7 |    8593322 |   459.0 |    6762543 |   361.2 |\n",
       "| Vcells | 118597783 | 904.9 | 1734031136 | 13229.7 | 1916141232 | 14619.0 |\n",
       "\n"
      ],
      "text/plain": [
       "       used      (Mb)  gc trigger (Mb)    max used   (Mb)   \n",
       "Ncells   4487908 239.7    8593322   459.0    6762543   361.2\n",
       "Vcells 118597783 904.9 1734031136 13229.7 1916141232 14619.0"
      ]
     },
     "metadata": {},
     "output_type": "display_data"
    }
   ],
   "source": [
    "rm(counts)\n",
    "gc()"
   ]
  },
  {
   "cell_type": "code",
   "execution_count": 5,
   "metadata": {
    "vscode": {
     "languageId": "r"
    }
   },
   "outputs": [],
   "source": [
    "# map cell types to the cell type e.g. \"T cells\" -> \"Tcl\"\n",
    "meta$labels = abbreviate(meta$labels)"
   ]
  },
  {
   "cell_type": "code",
   "execution_count": 6,
   "metadata": {
    "vscode": {
     "languageId": "r"
    }
   },
   "outputs": [
    {
     "data": {
      "text/plain": [
       ".\n",
       "B_C_ B_L_ CDTc Cldc Ecgc HlTc INHM Lngc Lyec Mcrp Mstc Nern Pldc PPPn Prif RgTc \n",
       "8197 2924 1272  602  721 5546  751 1901   55 1112 1146  387  170 3529 1012  671 \n",
       "S_C_ S_L_ Scpf Scrf Vec1 Vec2 Vsmc \n",
       "5863 3374 2270  192 2992  499 2844 "
      ]
     },
     "metadata": {},
     "output_type": "display_data"
    }
   ],
   "source": [
    "meta$labels %>% table()"
   ]
  },
  {
   "cell_type": "code",
   "execution_count": 7,
   "metadata": {
    "vscode": {
     "languageId": "r"
    }
   },
   "outputs": [],
   "source": [
    "cell.order = c('B_C_', 'B_L_','S_C_','S_L_','PPPn','CDTc','RgTc','HlTc','Cldc','Pldc','INHM','Lngc','Mstc','Mcrp','Ecgc','Lyec','Nern','Prif','Scpf','Scrf','Vec1','Vec2','Vsmc')"
   ]
  },
  {
   "cell_type": "code",
   "execution_count": 8,
   "metadata": {
    "vscode": {
     "languageId": "r"
    }
   },
   "outputs": [],
   "source": [
    "control_subset <- meta$Meta == \"Control\"\n",
    "lesion_subset <- meta$Meta == \"Lesion\""
   ]
  },
  {
   "cell_type": "code",
   "execution_count": 9,
   "metadata": {
    "vscode": {
     "languageId": "r"
    }
   },
   "outputs": [],
   "source": [
    "control_data <- data.input[, control_subset]\n",
    "lesion_data <- data.input[, lesion_subset]"
   ]
  },
  {
   "cell_type": "code",
   "execution_count": 10,
   "metadata": {
    "vscode": {
     "languageId": "r"
    }
   },
   "outputs": [
    {
     "data": {
      "image/png": "[encoded data removed]",
      "text/plain": [
       "plot without title"
      ]
     },
     "metadata": {
      "image/png": {
       "height": 420,
       "width": 420
      }
     },
     "output_type": "display_data"
    }
   ],
   "source": [
    "CellChatDB <- CellChatDB.human\n",
    "showDatabaseCategory(CellChatDB)\n",
    "CellChatDB.use <- subsetDB(CellChatDB, search = \"Secreted Signaling\", key = \"annotation\") # use Secreted Signaling"
   ]
  },
  {
   "cell_type": "code",
   "execution_count": 11,
   "metadata": {
    "vscode": {
     "languageId": "r"
    }
   },
   "outputs": [
    {
     "name": "stdout",
     "output_type": "stream",
     "text": [
      "[1] \"Create a CellChat object from a data matrix\"\n"
     ]
    },
    {
     "name": "stderr",
     "output_type": "stream",
     "text": [
      "Warning message in createCellChat(object = control_data, meta = meta[control_subset, :\n",
      "“The 'meta' data does not have a column named `samples`. We now add this column and all cells are assumed to belong to `sample1`!”\n"
     ]
    },
    {
     "name": "stdout",
     "output_type": "stream",
     "text": [
      "Set cell identities for the new CellChat object \n",
      "The cell groups used for CellChat analysis are  B_C_, CDTc, Cldc, Ecgc, HlTc, INHM, Lngc, Lyec, Mcrp, Mstc, Nern, Pldc, PPPn, Prif, RgTc, S_C_, Scpf, Scrf, Vec1, Vec2, Vsmc \n",
      "The number of highly variable ligand-receptor pairs used for signaling inference is 777 \n",
      "truncatedMean is used for calculating the average gene expression per cell group. \n",
      "[1] \">>> Run CellChat on sc/snRNA-seq data <<< [2024-05-27 15:32:01.777673]\"\n",
      "[1] \">>> CellChat inference is done. Parameter values are stored in `object@options$parameter` <<< [2024-05-27 17:23:24.260425]\"\n"
     ]
    }
   ],
   "source": [
    "cellchat_control <- createCellChat(object = control_data, meta = meta[control_subset,], group.by = \"labels\")\n",
    "\n",
    "# use a subset of CellChatDB for cell-cell communication analysis\n",
    "\n",
    "# set the used database in the object\n",
    "cellchat_control@DB <- CellChatDB.use\n",
    "# subset the expression data of signaling genes for saving computation cost\n",
    "cellchat_control <- subsetData(cellchat_control) # This step is necessary even if using the whole database\n",
    "future::plan(\"multisession\", workers = 4) # do parallel\n",
    "cellchat_control <- identifyOverExpressedGenes(cellchat_control)\n",
    "cellchat_control <- identifyOverExpressedInteractions(cellchat_control)\n",
    "#> The number of highly variable ligand-receptor pairs used for signaling inference is 692\n",
    "cellchat_control <- computeCommunProb(cellchat_control, type = \"truncatedMean\", trim = 0.05, population.size = TRUE)"
   ]
  },
  {
   "cell_type": "code",
   "execution_count": 12,
   "metadata": {
    "vscode": {
     "languageId": "r"
    }
   },
   "outputs": [
    {
     "name": "stdout",
     "output_type": "stream",
     "text": [
      "The cell-cell communication related with the following cell groups are excluded due to the few number of cells:  INHM, Lyec, Pldc, PPPn ! \t29.5% interactions are removed!\n"
     ]
    }
   ],
   "source": [
    "cellchat_control <- filterCommunication(cellchat_control, min.cells = 100)\n",
    "cellchat_control <- computeCommunProbPathway(cellchat_control)\n",
    "cellchat_control <- aggregateNet(cellchat_control)"
   ]
  },
  {
   "cell_type": "code",
   "execution_count": 13,
   "metadata": {
    "vscode": {
     "languageId": "r"
    }
   },
   "outputs": [
    {
     "name": "stdout",
     "output_type": "stream",
     "text": [
      "[1] \"Create a CellChat object from a data matrix\"\n"
     ]
    },
    {
     "name": "stderr",
     "output_type": "stream",
     "text": [
      "Warning message in createCellChat(object = lesion_data, meta = meta[lesion_subset, :\n",
      "“The 'meta' data does not have a column named `samples`. We now add this column and all cells are assumed to belong to `sample1`!”\n"
     ]
    },
    {
     "name": "stdout",
     "output_type": "stream",
     "text": [
      "Set cell identities for the new CellChat object \n",
      "The cell groups used for CellChat analysis are  B_L_, CDTc, Cldc, Ecgc, HlTc, INHM, Lngc, Lyec, Mcrp, Mstc, Nern, Pldc, PPPn, Prif, RgTc, S_L_, Scpf, Scrf, Vec1, Vec2, Vsmc \n",
      "The number of highly variable ligand-receptor pairs used for signaling inference is 778 \n",
      "truncatedMean is used for calculating the average gene expression per cell group. \n",
      "[1] \">>> Run CellChat on sc/snRNA-seq data <<< [2024-05-27 17:24:03.34395]\"\n",
      "[1] \">>> CellChat inference is done. Parameter values are stored in `object@options$parameter` <<< [2024-05-27 19:22:56.997966]\"\n"
     ]
    }
   ],
   "source": [
    "cellchat_lesion <- createCellChat(object = lesion_data, meta = meta[lesion_subset,], group.by = \"labels\")\n",
    "\n",
    "# use a subset of CellChatDB for cell-cell communication analysis\n",
    "\n",
    "# set the used database in the object\n",
    "cellchat_lesion@DB <- CellChatDB.use\n",
    "# subset the expression data of signaling genes for saving computation cost\n",
    "cellchat_lesion <- subsetData(cellchat_lesion) # This step is necessary even if using the whole database\n",
    "future::plan(\"multisession\", workers = 4) # do parallel\n",
    "cellchat_lesion <- identifyOverExpressedGenes(cellchat_lesion)\n",
    "cellchat_lesion <- identifyOverExpressedInteractions(cellchat_lesion)\n",
    "#> The number of highly variable ligand-receptor pairs used for signaling inference is 692\n",
    "cellchat_lesion <- computeCommunProb(cellchat_lesionI, type = \"truncatedMean\", trim = 0.05, population.size = TRUE)"
   ]
  },
  {
   "cell_type": "code",
   "execution_count": 14,
   "metadata": {
    "vscode": {
     "languageId": "r"
    }
   },
   "outputs": [
    {
     "name": "stdout",
     "output_type": "stream",
     "text": [
      "The cell-cell communication related with the following cell groups are excluded due to the few number of cells:  Lyec, Scrf ! \t22.3% interactions are removed!\n"
     ]
    }
   ],
   "source": [
    "cellchat_lesion <- filterCommunication(cellchat_lesion, min.cells = 100)\n",
    "cellchat_lesion <- computeCommunProbPathway(cellchat_lesion)\n",
    "cellchat_lesion <- aggregateNet(cellchat_lesion)"
   ]
  },
  {
   "cell_type": "code",
   "execution_count": 15,
   "metadata": {
    "vscode": {
     "languageId": "r"
    }
   },
   "outputs": [],
   "source": [
    "saveRDS(cellchat_lesion, file = \"/home/wu/datb1/reseq_ppp/interaction_results/cellchat_PPP_Lesion.rds\")\n",
    "saveRDS(cellchat_control, file = \"/home/wu/datb1/reseq_ppp/interaction_results/cellchat_PPP_Control.rds\")"
   ]
  },
  {
   "cell_type": "code",
   "execution_count": 2,
   "metadata": {
    "vscode": {
     "languageId": "r"
    }
   },
   "outputs": [],
   "source": [
    "cellchat_lesion = readRDS(\"/home/wu/datb1/reseq_ppp/interaction_results/cellchat_PPP_Lesion.rds\")\n",
    "cellchat_control = readRDS(\"/home/wu/datb1/reseq_ppp/interaction_results/cellchat_PPP_Control.rds\")"
   ]
  },
  {
   "cell_type": "code",
   "execution_count": 3,
   "metadata": {
    "vscode": {
     "languageId": "r"
    }
   },
   "outputs": [
    {
     "name": "stderr",
     "output_type": "stream",
     "text": [
      "Warning message in rm(control_data, lesion_data):\n",
      "“object 'control_data' not found”\n",
      "Warning message in rm(control_data, lesion_data):\n",
      "“object 'lesion_data' not found”\n"
     ]
    },
    {
     "data": {
      "text/html": [
       "<table class=\"dataframe\">\n",
       "<caption>A matrix: 2 × 6 of type dbl</caption>\n",
       "<thead>\n",
       "\t<tr><th></th><th scope=col>used</th><th scope=col>(Mb)</th><th scope=col>gc trigger</th><th scope=col>(Mb)</th><th scope=col>max used</th><th scope=col>(Mb)</th></tr>\n",
       "</thead>\n",
       "<tbody>\n",
       "\t<tr><th scope=row>Ncells</th><td>  4579796</td><td>244.6</td><td>  8593252</td><td> 459.0</td><td>  6718175</td><td>358.8</td></tr>\n",
       "\t<tr><th scope=row>Vcells</th><td>124640287</td><td>951.0</td><td>177926559</td><td>1357.5</td><td>124727719</td><td>951.6</td></tr>\n",
       "</tbody>\n",
       "</table>\n"
      ],
      "text/latex": [
       "A matrix: 2 × 6 of type dbl\n",
       "\\begin{tabular}{r|llllll}\n",
       "  & used & (Mb) & gc trigger & (Mb) & max used & (Mb)\\\\\n",
       "\\hline\n",
       "\tNcells &   4579796 & 244.6 &   8593252 &  459.0 &   6718175 & 358.8\\\\\n",
       "\tVcells & 124640287 & 951.0 & 177926559 & 1357.5 & 124727719 & 951.6\\\\\n",
       "\\end{tabular}\n"
      ],
      "text/markdown": [
       "\n",
       "A matrix: 2 × 6 of type dbl\n",
       "\n",
       "| <!--/--> | used | (Mb) | gc trigger | (Mb) | max used | (Mb) |\n",
       "|---|---|---|---|---|---|---|\n",
       "| Ncells |   4579796 | 244.6 |   8593252 |  459.0 |   6718175 | 358.8 |\n",
       "| Vcells | 124640287 | 951.0 | 177926559 | 1357.5 | 124727719 | 951.6 |\n",
       "\n"
      ],
      "text/plain": [
       "       used      (Mb)  gc trigger (Mb)   max used  (Mb) \n",
       "Ncells   4579796 244.6   8593252   459.0   6718175 358.8\n",
       "Vcells 124640287 951.0 177926559  1357.5 124727719 951.6"
      ]
     },
     "metadata": {},
     "output_type": "display_data"
    }
   ],
   "source": [
    "rm(control_data, lesion_data)\n",
    "gc()"
   ]
  },
  {
   "cell_type": "code",
   "execution_count": 17,
   "metadata": {
    "vscode": {
     "languageId": "r"
    }
   },
   "outputs": [
    {
     "data": {
      "text/html": [
       "<strong>png:</strong> 2"
      ],
      "text/latex": [
       "\\textbf{png:} 2"
      ],
      "text/markdown": [
       "**png:** 2"
      ],
      "text/plain": [
       "png \n",
       "  2 "
      ]
     },
     "metadata": {},
     "output_type": "display_data"
    }
   ],
   "source": [
    "# Chord diagram\n",
    "pdf(\"/home/wu/datb1/reseq_ppp/Pub_PPP_code/figures/fig4_4/cellchat_finer_PPP_Lesion_OSM.pdf\", width = 6, height = 6)\n",
    "a = netVisual_aggregate(cellchat_lesion, signaling = 'OSM', layout = \"chord\", cell.order = cell.order)\n",
    "dev.off()"
   ]
  },
  {
   "cell_type": "code",
   "execution_count": 18,
   "metadata": {
    "vscode": {
     "languageId": "r"
    }
   },
   "outputs": [
    {
     "data": {
      "text/html": [
       "<strong>png:</strong> 2"
      ],
      "text/latex": [
       "\\textbf{png:} 2"
      ],
      "text/markdown": [
       "**png:** 2"
      ],
      "text/plain": [
       "png \n",
       "  2 "
      ]
     },
     "metadata": {},
     "output_type": "display_data"
    }
   ],
   "source": [
    "# Chord diagram\n",
    "pdf(\"/home/wu/datb1/reseq_ppp/Pub_PPP_code/figures/fig4_4/cellchat_finer_PPP_Control_OSM.pdf\", width = 6, height = 6)\n",
    "a = netVisual_aggregate(cellchat_control, signaling = 'OSM', layout = \"chord\", cell.order = cell.order)\n",
    "dev.off()"
   ]
  },
  {
   "cell_type": "code",
   "execution_count": 19,
   "metadata": {
    "vscode": {
     "languageId": "r"
    }
   },
   "outputs": [
    {
     "data": {
      "text/html": [
       "<strong>png:</strong> 2"
      ],
      "text/latex": [
       "\\textbf{png:} 2"
      ],
      "text/markdown": [
       "**png:** 2"
      ],
      "text/plain": [
       "png \n",
       "  2 "
      ]
     },
     "metadata": {},
     "output_type": "display_data"
    }
   ],
   "source": [
    "pdf(\"/home/wu/datb1/reseq_ppp/Pub_PPP_code/figures/fig4_4/cellchat_finer_PPP_Lesion_CCL.pdf\", width = 5, height = 5)\n",
    "a = netVisual_aggregate(cellchat_lesion, signaling = 'CCL', layout = \"circle\", targets.use = 'PPPn') \n",
    "dev.off()"
   ]
  },
  {
   "cell_type": "code",
   "execution_count": 20,
   "metadata": {
    "vscode": {
     "languageId": "r"
    }
   },
   "outputs": [
    {
     "data": {
      "text/html": [
       "<strong>png:</strong> 2"
      ],
      "text/latex": [
       "\\textbf{png:} 2"
      ],
      "text/markdown": [
       "**png:** 2"
      ],
      "text/plain": [
       "png \n",
       "  2 "
      ]
     },
     "metadata": {},
     "output_type": "display_data"
    }
   ],
   "source": [
    "pdf(\"/home/wu/datb1/reseq_ppp/Pub_PPP_code/figures/fig4_4/cellchat_finer_PPP_Lesion_CXCL.pdf\", width = 5, height = 5)\n",
    "a = netVisual_aggregate(cellchat_lesion, signaling = 'CXCL', layout = \"circle\", targets.use = 'PPPn') \n",
    "dev.off()"
   ]
  },
  {
   "cell_type": "code",
   "execution_count": 21,
   "metadata": {
    "vscode": {
     "languageId": "r"
    }
   },
   "outputs": [],
   "source": [
    "# p <- netVisual_bubble(cellchat_all, sources.use = c(13,19,21), targets.use = c(13), comparison = c(1, 2), angle.x = 45,\n",
    "#                     signaling = c('CCL', 'CXCL'))\n",
    "# ggsave(\"/home/wu/datb1/psoriasis/Pub_PPP_code/figures/fig4_4/Compare_CLL_CXCL_bubble.pdf\", p, width = 4, height = 3.1)\n",
    "# # ggsave(\"Compare_LR_bubble.pdf\", p, width = 12, height = 8)"
   ]
  },
  {
   "cell_type": "code",
   "execution_count": 22,
   "metadata": {
    "vscode": {
     "languageId": "r"
    }
   },
   "outputs": [
    {
     "data": {
      "text/html": [
       "'CXCL12_CXCR4'"
      ],
      "text/latex": [
       "'CXCL12\\_CXCR4'"
      ],
      "text/markdown": [
       "'CXCL12_CXCR4'"
      ],
      "text/plain": [
       "[1] \"CXCL12_CXCR4\""
      ]
     },
     "metadata": {},
     "output_type": "display_data"
    }
   ],
   "source": [
    "pairLR.CXCL <- extractEnrichedLR(cellchat_lesion, signaling = 'CXCL', geneLR.return = FALSE)\n",
    "pairLR.CXCL[6,]"
   ]
  },
  {
   "cell_type": "code",
   "execution_count": 25,
   "metadata": {
    "vscode": {
     "languageId": "r"
    }
   },
   "outputs": [
    {
     "data": {
      "text/html": [
       "<strong>png:</strong> 2"
      ],
      "text/latex": [
       "\\textbf{png:} 2"
      ],
      "text/markdown": [
       "**png:** 2"
      ],
      "text/plain": [
       "png \n",
       "  2 "
      ]
     },
     "metadata": {},
     "output_type": "display_data"
    }
   ],
   "source": [
    "pdf(\"/home/wu/datb1/reseq_ppp/Pub_PPP_code/figures/fig4_4/cellchat_finer_PPP_Lesion_CXCL12_CXCR4.pdf\", width = 5, height = 5)\n",
    "a = netVisual_individual(cellchat_lesion, signaling = 'CXCL', pairLR.use = 'CXCL12_CXCR4', layout = \"chord\", targets.use = 'PPPn')\n",
    "dev.off()"
   ]
  },
  {
   "cell_type": "code",
   "execution_count": 30,
   "metadata": {
    "vscode": {
     "languageId": "r"
    }
   },
   "outputs": [
    {
     "data": {
      "text/html": [
       "<strong>png:</strong> 2"
      ],
      "text/latex": [
       "\\textbf{png:} 2"
      ],
      "text/markdown": [
       "**png:** 2"
      ],
      "text/plain": [
       "png \n",
       "  2 "
      ]
     },
     "metadata": {},
     "output_type": "display_data"
    }
   ],
   "source": [
    "pdf(\"/home/wu/datb1/reseq_ppp/Pub_PPP_code/figures/fig4_4/cellchat_finer_PPP_Lesion_CCL_contribution.pdf\", width = 5, height = 5)\n",
    "netAnalysis_contribution(cellchat_lesion, signaling = 'CCL', targets.use = 'PPPn')\n",
    "dev.off()"
   ]
  },
  {
   "cell_type": "code",
   "execution_count": 32,
   "metadata": {
    "vscode": {
     "languageId": "r"
    }
   },
   "outputs": [
    {
     "data": {
      "text/html": [
       "<strong>png:</strong> 2"
      ],
      "text/latex": [
       "\\textbf{png:} 2"
      ],
      "text/markdown": [
       "**png:** 2"
      ],
      "text/plain": [
       "png \n",
       "  2 "
      ]
     },
     "metadata": {},
     "output_type": "display_data"
    }
   ],
   "source": [
    "pdf(\"/home/wu/datb1/reseq_ppp/Pub_PPP_code/figures/fig4_4/cellchat_finer_PPP_Lesion_CXCL_contribution.pdf\", width = 5, height = 5)\n",
    "netAnalysis_contribution(cellchat_lesion, signaling = 'CXCL', targets.use = 'PPPn')\n",
    "dev.off()"
   ]
  }
 ],
 "metadata": {
  "kernelspec": {
   "display_name": "R",
   "language": "R",
   "name": "ir"
  },
  "language_info": {
   "codemirror_mode": "r",
   "file_extension": ".r",
   "mimetype": "text/x-r-source",
   "name": "R",
   "pygments_lexer": "r",
   "version": "4.3.2"
  }
 },
 "nbformat": 4,
 "nbformat_minor": 2
}
